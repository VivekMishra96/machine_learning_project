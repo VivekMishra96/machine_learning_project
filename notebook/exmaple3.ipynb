{
 "cells": [
  {
   "cell_type": "code",
   "execution_count": null,
   "metadata": {},
   "outputs": [],
   "source": []
  }
 ],
 "metadata": {
  "kernelspec": {
   "display_name": "Python 3.7.0 (conda)",
   "language": "python",
   "name": "python3"
  },
  "language_info": {
   "name": "python",
   "version": "3.7.0"
  },
  "orig_nbformat": 4,
  "vscode": {
   "interpreter": {
    "hash": "110d84816d65e9a4f315489140e94dce75cc1d13f0d44fd3a0a55ea1c29906df"
   }
  }
 },
 "nbformat": 4,
 "nbformat_minor": 2
}
